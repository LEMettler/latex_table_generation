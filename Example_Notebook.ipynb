{
 "cells": [
  {
   "cell_type": "code",
   "execution_count": 24,
   "id": "ccc50bb2-1aa9-4f71-86bb-a25e343100d9",
   "metadata": {},
   "outputs": [],
   "source": [
    "from latex_table import *"
   ]
  },
  {
   "cell_type": "code",
   "execution_count": 25,
   "id": "5506c90d-96ee-4a4d-bccf-bb59e0f1df1d",
   "metadata": {},
   "outputs": [
    {
     "data": {
      "text/plain": [
       "\u001b[1;31mSignature:\u001b[0m\n",
       "\u001b[0mgenerateLatexTable\u001b[0m\u001b[1;33m(\u001b[0m\u001b[1;33m\n",
       "\u001b[0m    \u001b[1;33m*\u001b[0m\u001b[0margs_values\u001b[0m\u001b[1;33m,\u001b[0m\u001b[1;33m\n",
       "\u001b[0m    \u001b[0mcolumn_names\u001b[0m\u001b[1;33m=\u001b[0m\u001b[1;32mNone\u001b[0m\u001b[1;33m,\u001b[0m\u001b[1;33m\n",
       "\u001b[0m    \u001b[0mround_values\u001b[0m\u001b[1;33m=\u001b[0m\u001b[1;32mNone\u001b[0m\u001b[1;33m,\u001b[0m\u001b[1;33m\n",
       "\u001b[0m    \u001b[0mseperate_values\u001b[0m\u001b[1;33m=\u001b[0m\u001b[1;32mFalse\u001b[0m\u001b[1;33m,\u001b[0m\u001b[1;33m\n",
       "\u001b[0m    \u001b[0mtable_caption\u001b[0m\u001b[1;33m=\u001b[0m\u001b[1;34m''\u001b[0m\u001b[1;33m,\u001b[0m\u001b[1;33m\n",
       "\u001b[0m    \u001b[0mtable_label\u001b[0m\u001b[1;33m=\u001b[0m\u001b[1;34m''\u001b[0m\u001b[1;33m,\u001b[0m\u001b[1;33m\n",
       "\u001b[0m    \u001b[0mbooktabs\u001b[0m\u001b[1;33m=\u001b[0m\u001b[1;32mTrue\u001b[0m\u001b[1;33m,\u001b[0m\u001b[1;33m\n",
       "\u001b[0m    \u001b[0mfile_name\u001b[0m\u001b[1;33m=\u001b[0m\u001b[1;32mNone\u001b[0m\u001b[1;33m,\u001b[0m\u001b[1;33m\n",
       "\u001b[0m\u001b[1;33m)\u001b[0m\u001b[1;33m\u001b[0m\u001b[1;33m\u001b[0m\u001b[0m\n",
       "\u001b[1;31mDocstring:\u001b[0m\n",
       "Convert argument arrays to code for a LaTeX-Table in form of a String/File.\n",
       "\n",
       ":args_values: arrays containing the column values (lists, numpy arrays)\n",
       ":column_names: names of columns, (list, numpy array; default=None)\n",
       ":round_values: decimal place to round to (int, list, numpy array; default=None)\n",
       ":seperate_values: split args_values into seperate arrays, if args_values are arrays for each row set to True,\n",
       "                if args_values are arrays for each column set to False (Boolean, default=False)\n",
       ":table_caption: LaTeX caption of table (String; default='')\n",
       ":table_label: LaTeX label of table (String; default='')\n",
       ":booktabs: If LaTeX booktabs package is used. If not, hline is used to seperate (Boolean; default=True)\n",
       ":file_name: file name under which to save the table in the current folder. If file_name = None\n",
       "            no file will be created (Boolean, default=None)\n",
       "            \n",
       "\u001b[1;31mFile:\u001b[0m      c:\\users\\meerlu\\documents\\jupyter_notebooks\\latex table\\latex_table.py\n",
       "\u001b[1;31mType:\u001b[0m      function\n"
      ]
     },
     "metadata": {},
     "output_type": "display_data"
    }
   ],
   "source": [
    "generateLatexTable?"
   ]
  },
  {
   "cell_type": "code",
   "execution_count": 28,
   "id": "f424d96a-674c-4a0b-bb24-cf7597b02d88",
   "metadata": {},
   "outputs": [
    {
     "name": "stdout",
     "output_type": "stream",
     "text": [
      "Table saved in: test_numbers.txt \n",
      "\n",
      "\\begin{table}[]\n",
      "\t\\centering\n",
      "\t\\caption{CAPTION}\n",
      "\t\\begin{tabular}{cccc}\n",
      "\t\\hline\n",
      "\tq & w & e & r \\\\ \n",
      "\t\\hline\n",
      "\t2,59 & 1 & A & -9,979 \\\\ \n",
      "\t4,2 & 1 & B & -7,965 \\\\ \n",
      "\t6,66 & 1 & B & -2,843 \\\\ \n",
      "\t8,4 & 0 & B & -0,58 \\\\ \n",
      "\t8,31 & 1 & B & -4,577 \\\\ \n",
      "\t\\hline \n",
      "\t\\end{tabular}\n",
      "\t\\label{LABEL}\n",
      "\\end{table}\n"
     ]
    }
   ],
   "source": [
    "import numpy as np\n",
    "\n",
    "a1 = 10*np.random.rand(5)\n",
    "a2 = np.random.choice([0, 1], size=5)\n",
    "a3 = np.random.choice(['A', 'B'], size=5)\n",
    "a4 = list(-10*np.random.rand(5))\n",
    "variables = ['q', 'w', 'e', 'r']\n",
    "\n",
    "table_string = generateLatexTable(a1, a2, a3, a4, column_names=variables, round_values=[2,0,0,3],table_caption='CAPTION', table_label='LABEL', booktabs=False, file_name='test_numbers.txt')\n",
    "\n",
    "print(table_string)"
   ]
  },
  {
   "cell_type": "code",
   "execution_count": 27,
   "id": "458f1799-5ea5-4e24-b4ec-f69f71888dbb",
   "metadata": {},
   "outputs": [
    {
     "name": "stdout",
     "output_type": "stream",
     "text": [
      "Table saved in: iris_table.txt \n",
      "\n"
     ]
    }
   ],
   "source": [
    "from sklearn import datasets\n",
    "\n",
    "iris = datasets.load_iris()\n",
    "labels = iris.feature_names\n",
    "data = iris.data[:10]\n",
    "\n",
    "table = generateLatexTable(*data, column_names=labels, seperate_values=True,\n",
    "                           table_caption='Wine', table_label='tab:iris', \n",
    "                           file_name='iris_table.txt')"
   ]
  }
 ],
 "metadata": {
  "kernelspec": {
   "display_name": "Python 3",
   "language": "python",
   "name": "python3"
  },
  "language_info": {
   "codemirror_mode": {
    "name": "ipython",
    "version": 3
   },
   "file_extension": ".py",
   "mimetype": "text/x-python",
   "name": "python",
   "nbconvert_exporter": "python",
   "pygments_lexer": "ipython3",
   "version": "3.10.8"
  }
 },
 "nbformat": 4,
 "nbformat_minor": 5
}
